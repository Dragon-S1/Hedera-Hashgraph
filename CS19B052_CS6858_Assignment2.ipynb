{
  "cells": [
    {
      "cell_type": "markdown",
      "metadata": {
        "id": "c3TRN6Zf2aHW"
      },
      "source": [
        "Import required modules"
      ]
    },
    {
      "cell_type": "code",
      "execution_count": 10,
      "metadata": {
        "id": "yDAu3M7h104R"
      },
      "outputs": [],
      "source": [
        "import sys\n",
        "import numpy as np\n",
        "import random"
      ]
    },
    {
      "cell_type": "markdown",
      "metadata": {
        "id": "l4-WPjgZ2eJQ"
      },
      "source": [
        "Set default arguments in case value is not provided from console\n",
        "\n",
        "type values - {\"isolated\", \"partition\"}"
      ]
    },
    {
      "cell_type": "code",
      "execution_count": 11,
      "metadata": {
        "id": "zLFQkB7h2O3I"
      },
      "outputs": [],
      "source": [
        "n = 3\n",
        "m = 20\n",
        "type = None"
      ]
    },
    {
      "cell_type": "markdown",
      "metadata": {
        "id": "Pc43kpvX3Aab"
      },
      "source": [
        "Uncoment this code block in case you are providing arguments from console"
      ]
    },
    {
      "cell_type": "code",
      "execution_count": 12,
      "metadata": {
        "id": "JCQor5ee14Rc"
      },
      "outputs": [],
      "source": [
        "# args = len(sys.argv)\n",
        "\n",
        "# if args > 1:\n",
        "# \tn = int(sys.argv[1])\n",
        "# if args > 2:\n",
        "# \tm = int(sys.argv[2])\n",
        "# if args > 3:\n",
        "# \ttype = sys.argv[3]"
      ]
    },
    {
      "cell_type": "markdown",
      "metadata": {
        "id": "oWf0CZSo3NR_"
      },
      "source": [
        "Setup some initial parameters for hashgraph"
      ]
    },
    {
      "cell_type": "code",
      "execution_count": 13,
      "metadata": {
        "id": "0TRDAfZ4161z"
      },
      "outputs": [],
      "source": [
        "spare = np.array(range(1000,9999)) # spare ids left for events\n",
        "curr_event = [None]*n              # id of last event by a node\n",
        "curr_time = [0]*n                  # timer for each node\n",
        "curr_isolated = [False]*n          # keep track of currently isolated nodes\n",
        "partition_flag = False             # flag for if partition is present\n",
        "hashgraph = []                     # list of events in hashgraph\n",
        "\n",
        "curr_m = 0                         # current number of events created"
      ]
    },
    {
      "cell_type": "markdown",
      "metadata": {
        "id": "3eaPzjM73V6t"
      },
      "source": [
        "Setup different parameters for isolated type"
      ]
    },
    {
      "cell_type": "code",
      "execution_count": 14,
      "metadata": {
        "id": "wiL7wUxw18nN"
      },
      "outputs": [],
      "source": [
        "if type=='isolated' and n>1:\n",
        "\tisolated_num = random.randint(1,n-1)\n",
        "\tisolated_nodes = np.array([0]*n)\n",
        "\tisolated_till = np.array([0]*n)\n",
        "\tisolated_after = np.array([0]*n)\n",
        "\tfor i in range(isolated_num):\n",
        "\t\tisolated_node = random.choice(*np.where(isolated_nodes == 0))\n",
        "\t\tisolated_nodes[isolated_node] = 1\n",
        "\t\tisolated_till[isolated_node] = random.randint(int(m/4)+1, m)\n",
        "\t\tisolated_after[isolated_node] = random.randint(0,int(m/4))"
      ]
    },
    {
      "cell_type": "markdown",
      "metadata": {
        "id": "i5fem8bk3W2W"
      },
      "source": [
        "Setup different parameters for partition type"
      ]
    },
    {
      "cell_type": "code",
      "execution_count": 15,
      "metadata": {
        "id": "yeWX_T-u19J3"
      },
      "outputs": [],
      "source": [
        "if type=='partition' and n>1:\n",
        "\tpartition = np.array([0]*n)\n",
        "\tfor i in range(int(n/2)):\n",
        "\t\tnode = random.choice(*np.where(partition==0))\n",
        "\t\tpartition[node]=1\n",
        "\tpartition_after = random.randint(0,int(m/4))\n",
        "\tpartition_till = random.randint(int(m/2),int(3*m/4))"
      ]
    },
    {
      "cell_type": "markdown",
      "metadata": {
        "id": "UkBIHmVw3Ya3"
      },
      "source": [
        "Perform the gossip protocol between the nodes"
      ]
    },
    {
      "cell_type": "code",
      "execution_count": 16,
      "metadata": {
        "id": "tYz47sF51ZBs"
      },
      "outputs": [],
      "source": [
        "while(curr_m<m):\n",
        "\t\tfor node in range(0,n):\n",
        "\t\t\tcreate = random.choice([True, False])     # randomly occurance to choose to create event\n",
        "\t\t\tif create and not curr_isolated[node]:\n",
        "        # span is the list of nodes to select randomly from\n",
        "\t\t\t\tif curr_event[node] is None:\n",
        "\t\t\t\t\tspan = np.array([node])\n",
        "\t\t\t\telse:\n",
        "\t\t\t\t\tspan = np.array([x for x in range(n) if x != node and not curr_isolated[x]])\n",
        "\t\t\t\t\tif partition_flag:\n",
        "\t\t\t\t\t\tspan = np.array([x for x in range(n) if x != node and not curr_isolated[x] and partition[x]==partition[node]])\n",
        "\t\t\t\tgossip_node= random.choice(span)                # node chosen to gossip to\n",
        "\t\t\t\tevent_id = random.choice(range(0,spare.size))   # id of the event \n",
        "\t\t\t\ttimestamp = max(curr_time[node], curr_time[gossip_node]) + 1    # timestamp for event\n",
        "\t\t\t\tevent = [gossip_node+1,spare[event_id],curr_event[node],curr_event[gossip_node],timestamp]\n",
        "\t\t\t\tcurr_time[gossip_node] = timestamp   # update current time for gossip node  \n",
        "\t\t\t\tcurr_event[gossip_node] = spare[event_id]   # update latest event for gossip node\n",
        "\t\t\t\thashgraph.append(event)\n",
        "\t\t\t\tspare = np.delete(spare,event_id)     # remove the id used\n",
        "\t\t\t\tcurr_m += 1     # increase number of events created\n",
        "      # isolate or un-isolate nodes according to the parameters\n",
        "\t\t\tif type=='isolated':\n",
        "\t\t\t\tfor i in range(n):\n",
        "\t\t\t\t\tif(m==isolated_after[i]):\n",
        "\t\t\t\t\t\tcurr_isolated[i] = True\n",
        "\t\t\t\t\tif(m==isolated_till[i]):\n",
        "\t\t\t\t\t\tcurr_isolated[i] = False\n",
        "      # create or remove partition according to the parameters\n",
        "\t\t\tif type=='partition':\n",
        "\t\t\t\tif(m==partition_after):\n",
        "\t\t\t\t\tpartition_flag = True\n",
        "\t\t\t\tif(m==partition_till):\n",
        "\t\t\t\t\tpartition_flag = False\n",
        "\t\t\tcurr_time[node] += 1    # increase local clock"
      ]
    },
    {
      "cell_type": "markdown",
      "metadata": {
        "id": "h5kFA91I3eJ_"
      },
      "source": [
        "Comment this out in case you want output in a file"
      ]
    },
    {
      "cell_type": "code",
      "execution_count": 17,
      "metadata": {
        "id": "9-d43fmn2AGU"
      },
      "outputs": [],
      "source": [
        "# fout = 'graph.txt'\n",
        "# sys.stdout = open(fout, 'w')\n"
      ]
    },
    {
      "cell_type": "markdown",
      "metadata": {
        "id": "yJsB7Oau3hul"
      },
      "source": [
        "Output the events"
      ]
    },
    {
      "cell_type": "code",
      "execution_count": 18,
      "metadata": {
        "colab": {
          "base_uri": "https://localhost:8080/"
        },
        "id": "4nzUJc552BFc",
        "outputId": "c20d8c12-c197-4f4d-c01c-671fe550de6b"
      },
      "outputs": [
        {
          "name": "stdout",
          "output_type": "stream",
          "text": [
            "3\n",
            "3 4133 NULL NULL 2\n",
            "1 2524 NULL NULL 3\n",
            "2 7540 4133 NULL 5\n",
            "3 7619 2524 4133 6\n",
            "1 9895 7540 2524 7\n",
            "1 4218 7540 9895 9\n",
            "1 3148 7619 4218 10\n",
            "2 4183 3148 7540 11\n",
            "1 9704 4183 3148 12\n",
            "3 5060 9704 7619 13\n",
            "3 2360 4183 5060 14\n",
            "3 8078 9704 2360 16\n",
            "3 5931 4183 8078 17\n",
            "2 1925 5931 4183 19\n",
            "3 8885 1925 5931 20\n",
            "3 6438 1925 8885 22\n",
            "2 9794 6438 1925 24\n",
            "2 5694 9704 9794 25\n",
            "3 4631 5694 6438 26\n",
            "2 9443 4631 5694 27\n",
            "Done\n"
          ]
        }
      ],
      "source": [
        "print(n)\n",
        "for i in hashgraph:\n",
        "\tprint(i[0], i[1], \"NULL\" if i[2] is None else i[2], \"NULL\" if i[3] is None else i[3], i[4])\n",
        "print(\"Done\")"
      ]
    }
  ],
  "metadata": {
    "colab": {
      "collapsed_sections": [],
      "provenance": []
    },
    "kernelspec": {
      "display_name": "Python 3.9.7 64-bit",
      "language": "python",
      "name": "python3"
    },
    "language_info": {
      "codemirror_mode": {
        "name": "ipython",
        "version": 3
      },
      "file_extension": ".py",
      "mimetype": "text/x-python",
      "name": "python",
      "nbconvert_exporter": "python",
      "pygments_lexer": "ipython3",
      "version": "3.9.7"
    },
    "vscode": {
      "interpreter": {
        "hash": "52634da84371cba311ea128a5ea7cdc41ff074b781779e754b270ff9f8153cee"
      }
    }
  },
  "nbformat": 4,
  "nbformat_minor": 0
}
